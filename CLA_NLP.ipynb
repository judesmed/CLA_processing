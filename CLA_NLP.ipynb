{
 "cells": [
  {
   "cell_type": "code",
   "execution_count": 3,
   "metadata": {},
   "outputs": [],
   "source": [
    "# import packages\n",
    "import os \n",
    "import json\n",
    "import lzma\n",
    "\n",
    "import pandas as pd\n",
    "import numpy as np"
   ]
  },
  {
   "attachments": {},
   "cell_type": "markdown",
   "metadata": {},
   "source": [
    "# list of txt files\n"
   ]
  },
  {
   "attachments": {},
   "cell_type": "markdown",
   "metadata": {},
   "source": [
    "# data download"
   ]
  },
  {
   "attachments": {},
   "cell_type": "markdown",
   "metadata": {},
   "source": [
    "extract files"
   ]
  },
  {
   "cell_type": "code",
   "execution_count": 4,
   "metadata": {},
   "outputs": [],
   "source": [
    "# text data extraction\n",
    "data_dir = \"data/piero_data_txt\"\n",
    "\n",
    "# get all the names of the text files\n",
    "tagged_posts_names = [obs for obs in os.listdir(data_dir) if \".txt\" in obs]\n",
    "\n",
    "# get all the paths of the text files\n",
    "tagged_posts_paths = [os.path.join(data_dir, obs) for obs in tagged_posts_names]"
   ]
  },
  {
   "attachments": {},
   "cell_type": "markdown",
   "metadata": {},
   "source": [
    "### Json"
   ]
  },
  {
   "cell_type": "code",
   "execution_count": 5,
   "metadata": {},
   "outputs": [],
   "source": [
    "## json extraction\n",
    "#data_dir = \"data/File_json\"\n",
    "\n",
    "# get all the names of the text files\n",
    "#tagged_posts_names = [obs for obs in os.listdir(data_dir) if \".json\" in obs]\n",
    "\n",
    "# # get all the paths of the text files\n",
    "# tagged_posts_paths = [os.path.join(data_dir, obs) for obs in tagged_posts_names]\n",
    "\n",
    "# with open(\"data/File_json/KPMG.json\") as file:\n",
    "#     existing_data = json.loads(file.read())\n",
    "\n",
    "#tagged_posts = spark.read.json(tagged_posts_paths)"
   ]
  },
  {
   "attachments": {},
   "cell_type": "markdown",
   "metadata": {},
   "source": [
    "### Text"
   ]
  },
  {
   "cell_type": "code",
   "execution_count": 6,
   "metadata": {},
   "outputs": [
    {
     "name": "stdout",
     "output_type": "stream",
     "text": [
      "['data/piero_data_txt/200-2021-011085.pdf_fr.txt', 'data/piero_data_txt/200-2021-013474.pdf_fr.txt', 'data/piero_data_txt/200-2019-010020.pdf_fr.txt']\n"
     ]
    }
   ],
   "source": [
    "# Selection for testing pre-selected pdf (olivier Be)----------- to be removed for final\n",
    "# comparer 168833   200-2021-011085 (parent)  and 167280  200-2021-013474  (child)     diff in new one in chp 2 article 3\n",
    "\n",
    "# text data extraction\n",
    "data_dir = \"data/piero_data_txt\"\n",
    "\n",
    "# get all the names of the text files\n",
    "tagged_posts_names = ['200-2021-011085.pdf_fr.txt','200-2021-013474.pdf_fr.txt','200-2019-010020.pdf_fr.txt']\n",
    "#['200-2019-010016.pdf_fr.txt','200-2019-010020.pdf_fr.txt','200-2020-000391.pdf_fr.txt','200-2020-009334.pdf_fr.txt','200-2021-013466.pdf_fr.txt']\n",
    "\n",
    "# get all the paths of the text files\n",
    "tagged_posts_paths = [os.path.join(data_dir, obs) for obs in tagged_posts_names]\n",
    "\n",
    "print(tagged_posts_paths)"
   ]
  },
  {
   "attachments": {},
   "cell_type": "markdown",
   "metadata": {},
   "source": [
    "### data frame creation"
   ]
  },
  {
   "cell_type": "code",
   "execution_count": 7,
   "metadata": {},
   "outputs": [],
   "source": [
    "# Read and update name column\n",
    "\n",
    "tagged_posts = pd.concat((pd.read_table(f) for f in tagged_posts_paths), ignore_index=False).T.reset_index()\n",
    "tagged_posts['pdf_name'] = tagged_posts_names\n",
    "tagged_posts = tagged_posts.rename(columns={\"index\": \"value\"})"
   ]
  },
  {
   "attachments": {},
   "cell_type": "markdown",
   "metadata": {},
   "source": [
    "# Data preprocessing"
   ]
  },
  {
   "attachments": {},
   "cell_type": "markdown",
   "metadata": {},
   "source": [
    "### Define functions and parametring of functions"
   ]
  },
  {
   "cell_type": "code",
   "execution_count": 43,
   "metadata": {},
   "outputs": [
    {
     "name": "stderr",
     "output_type": "stream",
     "text": [
      "[nltk_data] Downloading package stopwords to\n",
      "[nltk_data]     /home/juliendesmedt/nltk_data...\n",
      "[nltk_data]   Package stopwords is already up-to-date!\n",
      "[nltk_data] Downloading package punkt to\n",
      "[nltk_data]     /home/juliendesmedt/nltk_data...\n",
      "[nltk_data]   Package punkt is already up-to-date!\n",
      "[nltk_data] Downloading package averaged_perceptron_tagger to\n",
      "[nltk_data]     /home/juliendesmedt/nltk_data...\n",
      "[nltk_data]   Package averaged_perceptron_tagger is already up-to-\n",
      "[nltk_data]       date!\n",
      "[nltk_data] Downloading package wordnet to\n",
      "[nltk_data]     /home/juliendesmedt/nltk_data...\n",
      "[nltk_data]   Package wordnet is already up-to-date!\n"
     ]
    }
   ],
   "source": [
    "import nltk\n",
    "nltk.download('stopwords')\n",
    "\n",
    "from string import punctuation\n",
    "from nltk.corpus import stopwords\n",
    "\n",
    "# define what contain punctuation and stpwords\n",
    "#NUMBER is a fix to remove number in string format\n",
    "#NUMBERS =[str(x) for x in (list(range(0,100)))]\n",
    "PUNCTUATION = [char for char in punctuation if char not in [\"/\",\"-\", \"@\",\"°\",\"§\",\"_\"]]\n",
    "STOPWORDS = stopwords.words(\"french\")#+ NUMBERS\n",
    "\n",
    "# define function to remove punctuation\n",
    "def remove_punct(text):\n",
    "    # remove punctuation\n",
    "    text = \"\".join([char for char in text if char not in PUNCTUATION])\n",
    "    return(text)\n",
    "\n",
    "# define function to remove stopwords\n",
    "def remove_stops(text_tokenized):\n",
    "    # remove stopwords\n",
    "    text_tokenized = [word for word in text_tokenized if word not in STOPWORDS]\n",
    "    return(text_tokenized)\n",
    "\n",
    "# define tokenization function\n",
    "nltk.download('punkt')\n",
    "nltk.download('averaged_perceptron_tagger')\n",
    "nltk.download('wordnet')\n",
    "from nltk.tokenize import word_tokenize\n",
    "from nltk.stem import SnowballStemmer\n",
    "\n",
    "def text_tokenized(text):\n",
    "    words = word_tokenize(text)\n",
    "    return words\n",
    "\n",
    "#define text stemmizationfunction\n",
    "snow = SnowballStemmer('french')\n",
    "\n",
    "def stemmization(text_tokenized_no_stops):\n",
    "    stemmed_sentence = []\n",
    "    # Word Tokenizer\n",
    "    for word in text_tokenized_no_stops:\n",
    "        # Apply Stemming\n",
    "        stemmed_sentence.append(snow.stem(word))\n",
    "    stemmed_text = \" \".join(stemmed_sentence)\n",
    "    return stemmed_text\n",
    "\n",
    "# define text lementization (whith tokenization and changing tokenization method to tokenize base on space)\n",
    "import spacy\n",
    "from spacy.lang.fr.examples import sentences\n",
    "from spacy.tokens import Doc\n",
    "\n",
    "class WhitespaceTokenizer:\n",
    "    def __init__(self, vocab):\n",
    "        self.vocab = vocab\n",
    "\n",
    "    def __call__(self, text):\n",
    "        words = text.split(\" \")\n",
    "        spaces = [True] * len(words)\n",
    "        # Avoid zero-length tokens\n",
    "        for i, word in enumerate(words):\n",
    "            if word == \"\":\n",
    "                words[i] = \" \"\n",
    "                spaces[i] = False\n",
    "        # Remove the final trailing space\n",
    "        if words[-1] == \" \":\n",
    "            words = words[0:-1]\n",
    "            spaces = spaces[0:-1]\n",
    "        else:\n",
    "           spaces[-1] = False\n",
    "\n",
    "        return Doc(self.vocab, words=words, spaces=spaces)\n",
    "    \n",
    "#text lemmatization\n",
    "nlp = spacy.load('fr_core_news_md')\n",
    "nlp.tokenizer = WhitespaceTokenizer(nlp.vocab)\n",
    "#nlp = spacy.blank(\"fr\")\n",
    "\n",
    "def lemmatized(text):\n",
    "    lemmatized_sentence = []\n",
    "    doc = nlp(text)\n",
    "    for token in doc:\n",
    "        # Apply Stemming\n",
    "        lemmatized_sentence.append(token.lemma_)\n",
    "    return lemmatized_sentence\n",
    "\n",
    "# definition to join text\n",
    "def join_sentences(text):\n",
    "    for word in text:\n",
    "        text_join = \" \".join(text)\n",
    "    return text_join\n",
    "\n"
   ]
  },
  {
   "cell_type": "code",
   "execution_count": 9,
   "metadata": {},
   "outputs": [
    {
     "data": {
      "text/html": [
       "<div>\n",
       "<style scoped>\n",
       "    .dataframe tbody tr th:only-of-type {\n",
       "        vertical-align: middle;\n",
       "    }\n",
       "\n",
       "    .dataframe tbody tr th {\n",
       "        vertical-align: top;\n",
       "    }\n",
       "\n",
       "    .dataframe thead th {\n",
       "        text-align: right;\n",
       "    }\n",
       "</style>\n",
       "<table border=\"1\" class=\"dataframe\">\n",
       "  <thead>\n",
       "    <tr style=\"text-align: right;\">\n",
       "      <th></th>\n",
       "      <th>value</th>\n",
       "      <th>pdf_name</th>\n",
       "    </tr>\n",
       "  </thead>\n",
       "  <tbody>\n",
       "    <tr>\n",
       "      <th>0</th>\n",
       "      <td>Neerlegging-Dépôt: 22/09/2021 N°: 167280/CO/20...</td>\n",
       "      <td>200-2021-011085.pdf_fr.txt</td>\n",
       "    </tr>\n",
       "    <tr>\n",
       "      <th>1</th>\n",
       "      <td>Neerlegging-Dépôt: 24/11/2021 Regist. -Enregis...</td>\n",
       "      <td>200-2021-013474.pdf_fr.txt</td>\n",
       "    </tr>\n",
       "    <tr>\n",
       "      <th>2</th>\n",
       "      <td>Correction - Correction - DécisionService publ...</td>\n",
       "      <td>200-2019-010020.pdf_fr.txt</td>\n",
       "    </tr>\n",
       "  </tbody>\n",
       "</table>\n",
       "</div>"
      ],
      "text/plain": [
       "                                               value  \\\n",
       "0  Neerlegging-Dépôt: 22/09/2021 N°: 167280/CO/20...   \n",
       "1  Neerlegging-Dépôt: 24/11/2021 Regist. -Enregis...   \n",
       "2  Correction - Correction - DécisionService publ...   \n",
       "\n",
       "                     pdf_name  \n",
       "0  200-2021-011085.pdf_fr.txt  \n",
       "1  200-2021-013474.pdf_fr.txt  \n",
       "2  200-2019-010020.pdf_fr.txt  "
      ]
     },
     "execution_count": 9,
     "metadata": {},
     "output_type": "execute_result"
    }
   ],
   "source": [
    "tagged_posts"
   ]
  },
  {
   "attachments": {},
   "cell_type": "markdown",
   "metadata": {},
   "source": [
    "### Running data processing"
   ]
  },
  {
   "cell_type": "code",
   "execution_count": 10,
   "metadata": {},
   "outputs": [],
   "source": [
    "# text preprocessing stemmed\n",
    "tagged_posts['text_lower'] = tagged_posts['value'].map(str.lower)\n",
    "tagged_posts['text_cleaned'] = tagged_posts['text_lower'].map(remove_punct)\n",
    "tagged_posts['text_tokenized'] = tagged_posts['text_cleaned'].map(text_tokenized)\n",
    "tagged_posts['text_tokenized_no_stops'] = tagged_posts['text_tokenized'].map(remove_stops)\n",
    "tagged_posts['text_stemmed'] = tagged_posts['text_tokenized_no_stops'].map(stemmization)\n",
    "tagged_posts = tagged_posts.drop(['text_lower','text_cleaned','text_tokenized','text_tokenized_no_stops'], axis=1)\n",
    "\n",
    "# text preprocessing lemmatized\n",
    "tagged_posts['text_lower'] = tagged_posts['value'].map(str.lower)\n",
    "tagged_posts['text_cleaned'] = tagged_posts['text_lower'].map(remove_punct)\n",
    "tagged_posts['text_lemmatized'] = tagged_posts['text_cleaned'].map(lemmatized)\n",
    "tagged_posts['text_tokenized_no_stops'] = tagged_posts['text_lemmatized'].map(remove_stops)\n",
    "tagged_posts['text_final_lemmatized'] = tagged_posts['text_tokenized_no_stops'].map(join_sentences)\n",
    "tagged_posts = tagged_posts.drop(['text_lower','text_cleaned','text_lemmatized','text_tokenized_no_stops'], axis=1)\n"
   ]
  },
  {
   "cell_type": "code",
   "execution_count": 42,
   "metadata": {},
   "outputs": [],
   "source": [
    "def text_lematization(text):\n",
    "    # text preprocessing lemmatized\n",
    "    text_lower = str.lower(text)\n",
    "    text_cleaned = remove_punct(text_lower)\n",
    "    tokenized = text_tokenized(text_cleaned)\n",
    "    text_lemmatized = lemmatized(tokenized)\n",
    "    text_tokenized_no_stops = remove_stops(text_lemmatized)\n",
    "    text_final_lemmatized = join_sentences(text_tokenized_no_stops)\n",
    "    return (text_final_lemmatized)\n",
    "\n",
    "def text_lematization(text):\n",
    "    # text preprocessing lemmatized\n",
    "    text_lower = str.lower(text)\n",
    "    text_cleaned = remove_punct(text_lower)\n",
    "    text_lemmatized = lemmatized(text_cleaned)\n",
    "    text_tokenized_no_stops = remove_stops(text_lemmatized)\n",
    "    text_final_lemmatized = join_sentences(text_tokenized_no_stops)\n",
    "    return (text_final_lemmatized)\n"
   ]
  },
  {
   "cell_type": "code",
   "execution_count": 36,
   "metadata": {},
   "outputs": [
    {
     "data": {
      "text/plain": [
       "'neerlegging-dépôt 22/09/2021 numéro 167280/co/200 regist -enreqistr 23/09/2021 commission paritaire auxiliaire employé convention collectif travail 20 septembre 2021 conclure sein commission paritaire auxiliaire employé relatif crédit-temp chapitre ier champ dapplication article 1er présent convention collectif travail sappliqu employeur employé entreprise relever compétence com- mission paritaire auxiliaire employé entendre employé   employé mascu- lin féminin chapitre ii crédit-temp art 2 application larticle 2 § 3 con- vention collectif travail numéro 103 instaurer système crédit-temp diminution carrière demploi fin carrière possibilité dérogation suivant être fixer   employé nappartiennent per- sonnel dexécution employé exer- cent fonction nest exercer autre employer lentreprise lexercice droit crédit-temp requérir laccord lemployeurlautorisation refus lemployeur être communiquer travailleur plus tard dernier jour mois suivre celui où travailleur avoir for- mulé demande écrire larticle 8 convention collectif travail 9 juin 2016 relatif statut délégation syn- dical conclure sein commission paritaire auxiliaire employé être dapplication cas conflit persistant sein lentreprise sans délégation syndical partie plus diligent pouvoir saisir bureau conciliation commission paritaire auxiliaire employé art 3 application larticle 4 § 4 con- vention collectif travail ner 103 droit 24 mois crédit-temp temps plein mi-temps motif être octroyer comme prévoir lar- ticle 4 § lel avoir ber ca § 2 convention collectif travail na 103 employé avoir ancienneté 5 an moins lentreprise droit 36 mois crédit-temp temps plein mi-temps mo- tif être octroyer comme prévoir larticle 4 § 2 convention collectif travail na 103 employé avoir ancienneté 5 an moins lentreprise droit 51 mois crédit-temp temps plein mi-temps mo- tif être octroyer comme prévoir larticle 4 § 1el avoir ber ca convention collectif travail numéro 103chapitre iii application convention collectif numéro 103 27 juin 2012 conseil vail art 4 tout nest explicitement présent convention collectif régir disposition convention travail numéro 103 27 juin 2012 conseil nal travail instaurer système temps diminution carrière carrière chapitre iv durée art 5 présent convention collectif entre vigueur 1erjuillet duire effet 31 décembre 2021de travail national tra- prévoir travail être collective natio- crédit- demploi fin convention travail 2021 cesse pro-'"
      ]
     },
     "execution_count": 36,
     "metadata": {},
     "output_type": "execute_result"
    }
   ],
   "source": [
    "text_lematization(tagged_posts['value'][0])"
   ]
  },
  {
   "cell_type": "code",
   "execution_count": 12,
   "metadata": {},
   "outputs": [
    {
     "data": {
      "text/html": [
       "<div>\n",
       "<style scoped>\n",
       "    .dataframe tbody tr th:only-of-type {\n",
       "        vertical-align: middle;\n",
       "    }\n",
       "\n",
       "    .dataframe tbody tr th {\n",
       "        vertical-align: top;\n",
       "    }\n",
       "\n",
       "    .dataframe thead th {\n",
       "        text-align: right;\n",
       "    }\n",
       "</style>\n",
       "<table border=\"1\" class=\"dataframe\">\n",
       "  <thead>\n",
       "    <tr style=\"text-align: right;\">\n",
       "      <th></th>\n",
       "      <th>value</th>\n",
       "      <th>pdf_name</th>\n",
       "      <th>text_stemmed</th>\n",
       "      <th>text_final_lemmatized</th>\n",
       "    </tr>\n",
       "  </thead>\n",
       "  <tbody>\n",
       "    <tr>\n",
       "      <th>0</th>\n",
       "      <td>Neerlegging-Dépôt: 22/09/2021 N°: 167280/CO/20...</td>\n",
       "      <td>200-2021-011085.pdf_fr.txt</td>\n",
       "      <td>neerlegging-dépôt 22/09/2021 n° 167280/co/200 ...</td>\n",
       "      <td>neerlegging-dépôt 22/09/2021 numéro 167280/co/...</td>\n",
       "    </tr>\n",
       "    <tr>\n",
       "      <th>1</th>\n",
       "      <td>Neerlegging-Dépôt: 24/11/2021 Regist. -Enregis...</td>\n",
       "      <td>200-2021-013474.pdf_fr.txt</td>\n",
       "      <td>neerlegging-dépôt 24/11/2021 regist -enregistr...</td>\n",
       "      <td>neerlegging-dépôt 24/11/2021 regist -enregistr...</td>\n",
       "    </tr>\n",
       "    <tr>\n",
       "      <th>2</th>\n",
       "      <td>Correction - Correction - DécisionService publ...</td>\n",
       "      <td>200-2019-010020.pdf_fr.txt</td>\n",
       "      <td>correct - correct - décisionservic public dire...</td>\n",
       "      <td>correction - correction - décisionservice publ...</td>\n",
       "    </tr>\n",
       "  </tbody>\n",
       "</table>\n",
       "</div>"
      ],
      "text/plain": [
       "                                               value  \\\n",
       "0  Neerlegging-Dépôt: 22/09/2021 N°: 167280/CO/20...   \n",
       "1  Neerlegging-Dépôt: 24/11/2021 Regist. -Enregis...   \n",
       "2  Correction - Correction - DécisionService publ...   \n",
       "\n",
       "                     pdf_name  \\\n",
       "0  200-2021-011085.pdf_fr.txt   \n",
       "1  200-2021-013474.pdf_fr.txt   \n",
       "2  200-2019-010020.pdf_fr.txt   \n",
       "\n",
       "                                        text_stemmed  \\\n",
       "0  neerlegging-dépôt 22/09/2021 n° 167280/co/200 ...   \n",
       "1  neerlegging-dépôt 24/11/2021 regist -enregistr...   \n",
       "2  correct - correct - décisionservic public dire...   \n",
       "\n",
       "                               text_final_lemmatized  \n",
       "0  neerlegging-dépôt 22/09/2021 numéro 167280/co/...  \n",
       "1  neerlegging-dépôt 24/11/2021 regist -enregistr...  \n",
       "2  correction - correction - décisionservice publ...  "
      ]
     },
     "execution_count": 12,
     "metadata": {},
     "output_type": "execute_result"
    }
   ],
   "source": [
    "tagged_posts"
   ]
  },
  {
   "cell_type": "code",
   "execution_count": 13,
   "metadata": {},
   "outputs": [],
   "source": [
    "tagged_posts['len_text'] = tagged_posts.apply(lambda row : len(row[0]), axis=1)\n",
    "tagged_posts['len_stem'] = tagged_posts.apply(lambda row : len(row[2]), axis=1)\n",
    "tagged_posts['len_lemma'] = tagged_posts.apply(lambda row : len(row[3]), axis=1)"
   ]
  },
  {
   "cell_type": "code",
   "execution_count": 14,
   "metadata": {},
   "outputs": [],
   "source": [
    "tagged_posts['text_tokenized'] = tagged_posts['text_final_lemmatized'].map(text_tokenized)"
   ]
  },
  {
   "cell_type": "code",
   "execution_count": 15,
   "metadata": {},
   "outputs": [],
   "source": [
    "tagged_posts.to_csv('data/text_process.csv')"
   ]
  },
  {
   "attachments": {},
   "cell_type": "markdown",
   "metadata": {},
   "source": [
    "# Text comparison"
   ]
  },
  {
   "cell_type": "code",
   "execution_count": 16,
   "metadata": {},
   "outputs": [],
   "source": [
    "# text sementic comparison\n",
    "from sentence_transformers import SentenceTransformer, util\n",
    "\n",
    "parent = tagged_posts['text_final_lemmatized'][0]\n",
    "child = tagged_posts['text_final_lemmatized'][1]\n",
    "\n",
    "model = SentenceTransformer('all-mpnet-base-v2')\n",
    "\n",
    "def text_sementic_comparison(parent,child):\n",
    "    first = model.encode(parent)\n",
    "    second = model.encode(child)\n",
    "\n",
    "    cos_sim = util.pytorch_cos_sim(first, second)\n",
    "\n",
    "    return (cos_sim, first)\n",
    "\n",
    "text_comparison_score, first = text_sementic_comparison(parent, child)"
   ]
  },
  {
   "cell_type": "code",
   "execution_count": 17,
   "metadata": {},
   "outputs": [],
   "source": [
    "# text sementic comparison\n",
    "from sentence_transformers import SentenceTransformer, util\n",
    "\n",
    "model = SentenceTransformer('all-mpnet-base-v2')\n",
    "\n",
    "def text_vectorization(text):\n",
    "    vector = model.encoder(text)\n",
    "    return vector\n"
   ]
  },
  {
   "cell_type": "code",
   "execution_count": 18,
   "metadata": {},
   "outputs": [
    {
     "data": {
      "text/plain": [
       "array([ 1.89105365e-02,  1.61328185e-02,  5.42548019e-03,  2.92100408e-03,\n",
       "       -3.89184766e-02,  2.84431279e-02,  2.64710449e-02,  5.66476099e-02,\n",
       "        1.78094227e-02,  1.39647862e-02,  5.42318150e-02,  1.61529612e-02,\n",
       "        5.54988980e-02, -1.39445940e-03, -2.34490689e-02,  6.09396398e-02,\n",
       "        3.04872878e-02,  4.95095067e-02, -4.62103225e-02, -1.93067419e-03,\n",
       "       -1.02909962e-02,  7.46426061e-02, -8.51645600e-03,  6.45633265e-02,\n",
       "       -3.86388414e-03, -5.41179487e-03,  5.11162244e-02,  1.73757412e-02,\n",
       "        4.24975716e-03, -1.72143504e-02,  9.65128317e-02,  1.71389356e-02,\n",
       "        2.51663011e-02, -1.60187669e-02,  2.59023068e-06, -2.60920580e-02,\n",
       "       -2.86272522e-02, -4.69751237e-03, -2.26873923e-02,  1.01598985e-02,\n",
       "       -5.13576046e-02, -4.99908440e-02, -2.27797050e-02,  2.35854113e-03,\n",
       "       -4.70813736e-03,  3.69475558e-02,  2.20992751e-02, -3.06891873e-02,\n",
       "        2.71864403e-02,  5.31695820e-02, -3.30492714e-03, -2.44832933e-02,\n",
       "       -9.44903940e-02, -4.77214716e-02, -1.42451292e-02, -3.81250381e-02,\n",
       "        1.10367574e-02, -1.77083649e-02,  4.30041216e-02, -2.55698618e-02,\n",
       "       -1.65425614e-02, -3.86101822e-03,  6.00791862e-03, -7.09641948e-02,\n",
       "       -9.65211447e-03,  4.72294502e-02,  4.50963490e-02, -4.73727435e-02,\n",
       "        4.93401662e-02, -1.01451727e-03,  9.68104526e-02,  3.36750248e-03,\n",
       "        1.86487872e-04,  5.98917380e-02, -3.13705951e-02, -1.76667552e-02,\n",
       "       -2.44474877e-02,  7.65083684e-03, -3.53519246e-02, -2.18069609e-02,\n",
       "        4.95452434e-02,  8.93216953e-02, -2.96505112e-02,  1.00188400e-03,\n",
       "       -4.50020842e-02,  1.93667728e-02, -2.72128228e-02, -3.76108065e-02,\n",
       "        4.86711040e-02, -3.17102000e-02,  7.76544288e-02, -3.70002352e-02,\n",
       "        2.05721539e-02,  3.74139622e-02,  8.50578025e-03, -7.20848748e-03,\n",
       "       -1.28074060e-03, -4.81860973e-02,  6.50725961e-02, -4.46360745e-02,\n",
       "        6.81093987e-03,  3.29197086e-02, -2.95769479e-02,  8.11204091e-02,\n",
       "       -1.46735366e-03,  1.30902845e-02,  3.81152931e-04, -1.74530763e-02,\n",
       "       -1.98419597e-02,  3.58488187e-02, -3.46028507e-02, -5.74795483e-03,\n",
       "       -5.84078059e-02, -1.71075221e-02, -4.02772166e-02,  2.37277001e-02,\n",
       "       -3.73040363e-02, -1.02078104e-02,  1.86819653e-03,  2.87174750e-02,\n",
       "        6.23554438e-02, -1.04748476e-02, -2.00943295e-02,  6.88850880e-03,\n",
       "       -1.67113747e-02, -6.50261575e-03, -3.62838395e-02, -4.90496308e-03,\n",
       "        1.44466059e-02, -1.89564824e-02, -7.93945510e-03, -1.25162965e-02,\n",
       "        3.80617492e-02, -5.02193086e-02, -2.85407715e-03,  2.94768568e-02,\n",
       "        8.80929735e-03, -1.30060501e-03, -4.22595348e-03, -4.03978378e-02,\n",
       "        1.64152496e-02, -3.15729566e-02, -4.31356058e-02, -1.81276351e-02,\n",
       "        5.93509758e-03, -2.52985694e-02, -5.74806938e-03, -3.64154913e-02,\n",
       "        8.44229758e-03,  1.17063457e-02, -9.92030948e-02, -2.52610929e-02,\n",
       "       -7.52830207e-02, -2.15392355e-02,  2.22853459e-02,  3.74980047e-02,\n",
       "        6.08133003e-02, -3.65883932e-02,  2.16705613e-02, -1.70658976e-02,\n",
       "        1.92014985e-02, -4.81250696e-02,  3.10465544e-02, -6.16021361e-03,\n",
       "       -7.02583930e-03, -1.21711092e-02,  4.78038602e-02,  3.43845338e-02,\n",
       "       -7.01021403e-02, -3.96579318e-02,  4.68420945e-02,  2.11538132e-02,\n",
       "       -1.11256922e-02,  2.66098045e-02, -3.96924233e-03,  7.90758580e-02,\n",
       "        2.37021837e-02, -7.83517435e-02, -1.01569230e-02, -7.21449265e-03,\n",
       "       -3.89458537e-02, -7.63873011e-02,  2.85052247e-02, -1.36524113e-02,\n",
       "       -4.61040772e-02, -1.67506691e-02, -5.11781499e-02,  1.74027332e-03,\n",
       "       -2.52552927e-02, -4.90331277e-02,  4.68877656e-03,  4.87881228e-02,\n",
       "       -4.67471220e-02, -3.26891392e-02, -2.05001719e-02,  3.71799953e-02,\n",
       "       -4.20235395e-02, -7.68580213e-02,  2.44336501e-02,  1.80671935e-03,\n",
       "        1.33140013e-02, -4.89306040e-02,  5.84891289e-02,  8.74817371e-02,\n",
       "        5.55153051e-03,  3.83468531e-02, -3.46766599e-02, -3.88258919e-02,\n",
       "        1.25943478e-02,  1.32635171e-02,  3.82054076e-02,  1.36068594e-02,\n",
       "        8.23508203e-03,  8.37763189e-04, -1.21325077e-02,  5.13716638e-02,\n",
       "        1.19667137e-02,  4.10250984e-02, -9.69336405e-02,  8.79905373e-03,\n",
       "       -2.40272190e-03,  7.71661177e-02, -2.81104073e-02,  3.30720888e-03,\n",
       "        2.34575234e-02, -6.33928552e-02, -2.47760583e-02,  1.22036617e-02,\n",
       "       -3.40557173e-02,  9.93146375e-03,  5.45436703e-03,  3.32119428e-02,\n",
       "        2.68346723e-02, -9.24790930e-03,  1.00515699e-02,  7.13132620e-02,\n",
       "        4.75342646e-02,  1.75481103e-02, -4.57531773e-02,  1.46951368e-02,\n",
       "       -2.05179490e-02, -4.36957330e-02,  2.11975873e-02,  3.25438790e-02,\n",
       "        2.51435302e-03, -1.24011859e-02,  1.27929710e-02, -2.33367272e-02,\n",
       "        8.89925461e-04,  9.00999084e-03,  3.65363881e-02,  9.25868191e-03,\n",
       "       -4.27615782e-03, -7.05790799e-03,  1.47138406e-02, -2.15167068e-02,\n",
       "       -7.51031116e-02,  1.00183701e-02, -3.72283272e-02,  9.90164652e-03,\n",
       "        5.37533686e-02, -3.00525706e-02, -2.48032175e-02, -3.36145109e-04,\n",
       "        6.43117502e-02, -3.62105086e-03,  3.43112089e-03, -1.88431349e-02,\n",
       "       -3.55362287e-03,  1.02664037e-02,  1.05826147e-02,  4.51881438e-03,\n",
       "        4.57439758e-02, -1.70444343e-02,  2.38538831e-02,  9.24361666e-06,\n",
       "       -2.80155465e-02,  5.86295165e-02,  5.14797866e-03,  3.93169187e-02,\n",
       "        1.88844223e-02, -5.25809824e-02, -1.01810452e-02, -1.08747054e-02,\n",
       "       -1.14078596e-02,  2.86286557e-03,  2.75837593e-02, -5.13692982e-02,\n",
       "       -1.08961202e-01,  4.02604742e-03, -6.89642550e-03, -3.30073871e-02,\n",
       "       -8.83617252e-03, -3.07177063e-02, -3.06121260e-02, -6.81912806e-03,\n",
       "       -2.25869305e-02,  4.39217016e-02, -3.64825974e-04,  1.00013427e-01,\n",
       "       -2.38165930e-02,  1.33466292e-02, -2.57529300e-02, -3.12747955e-02,\n",
       "       -1.29811082e-03,  3.30856778e-02,  1.19934073e-02, -2.43001692e-02,\n",
       "        2.80090906e-02,  4.66826983e-04,  2.64703147e-02, -1.45745405e-03,\n",
       "        1.23349605e-02,  1.58707872e-02, -2.08277088e-02, -4.85280976e-02,\n",
       "       -3.18335742e-02, -3.45007442e-02, -4.14345115e-02,  5.72360381e-02,\n",
       "       -7.84612074e-03,  1.19210416e-02, -3.65461223e-02,  2.77623925e-02,\n",
       "       -2.51330361e-02, -1.16396528e-04, -9.58223417e-02, -1.44306216e-02,\n",
       "        8.19459558e-02, -2.94288415e-02,  1.85445286e-02,  4.22728211e-02,\n",
       "       -8.20962414e-02,  1.58927087e-02,  1.23640932e-02,  2.51146778e-03,\n",
       "       -1.27743259e-02,  1.14785880e-02,  1.66940615e-02,  6.48024399e-03,\n",
       "       -1.09241661e-02, -4.87784781e-02, -1.47706382e-02, -2.21007038e-02,\n",
       "        6.54277205e-02,  5.12550473e-02,  1.77953218e-03,  3.82182486e-02,\n",
       "       -3.62724960e-02, -8.18455685e-03, -6.37631044e-02,  4.54195477e-02,\n",
       "        1.80856828e-02, -3.35252993e-02, -4.29379083e-02, -2.11557746e-02,\n",
       "       -1.64245442e-02,  1.87223200e-02, -1.40366657e-02, -5.38450703e-02,\n",
       "       -6.18743077e-02,  1.31123271e-02, -3.57940607e-02,  1.74458586e-02,\n",
       "        1.22057861e-02,  6.90456294e-03, -6.24491181e-03, -5.75507730e-02,\n",
       "       -3.85619998e-02, -4.76148836e-02, -2.61323452e-02, -5.65663204e-02,\n",
       "       -3.51114348e-02,  5.15287220e-02, -6.54417416e-03,  2.47871932e-02,\n",
       "        3.39584574e-02,  3.07748225e-02, -3.16732302e-02,  8.63368809e-03,\n",
       "        3.47820818e-02, -1.76885426e-02,  1.18972801e-01, -1.33688585e-03,\n",
       "       -8.46039224e-03, -1.42338695e-02, -2.15263255e-02, -7.88340569e-02,\n",
       "       -5.24668256e-03,  6.03501499e-02,  6.91493833e-03, -9.55543295e-03,\n",
       "       -2.14400608e-02, -9.84640676e-04, -6.13180175e-03, -9.36492998e-03,\n",
       "       -2.67108846e-02,  4.77473531e-03,  1.91874728e-02,  8.57800804e-03,\n",
       "        2.89832298e-02,  2.49222815e-02, -9.66252701e-04,  7.73260091e-03,\n",
       "       -5.59572317e-03,  1.58086680e-02,  4.07199040e-02,  1.19196884e-02,\n",
       "       -2.31351387e-02,  1.37197310e-02,  6.10651784e-02, -9.22255367e-02,\n",
       "       -2.42961664e-03, -2.06459407e-02, -4.55192802e-03, -5.09402789e-02,\n",
       "       -2.70780008e-02,  1.68698151e-02, -9.53970198e-03, -4.23059687e-02,\n",
       "        3.88306268e-02,  3.22800390e-02,  3.95518430e-02, -3.82557027e-02,\n",
       "        2.10692212e-02, -2.26015765e-02,  6.34880289e-02,  4.15023649e-03,\n",
       "        2.23821271e-02, -1.03741791e-02,  1.24680419e-02,  2.13492848e-02,\n",
       "       -1.67820547e-02,  5.66731533e-03, -3.47753689e-02,  1.83752142e-02,\n",
       "       -2.28948938e-05, -4.82688248e-02, -2.58244257e-02, -5.38391657e-02,\n",
       "       -5.48682846e-02,  4.53883000e-02,  9.85723734e-02,  8.79468583e-03,\n",
       "       -2.17530206e-02, -2.91916691e-02, -1.91656705e-02,  2.47462392e-02,\n",
       "       -1.65856443e-02,  8.19151755e-03,  5.16536646e-02, -4.71756868e-02,\n",
       "        1.57754682e-03, -8.60526785e-02,  1.30104646e-01, -5.07218242e-02,\n",
       "       -9.09810364e-02, -7.39949197e-02, -1.15243429e-02, -4.61167516e-03,\n",
       "        3.47250956e-03,  6.72360212e-02, -1.22349523e-02, -3.19642527e-03,\n",
       "        1.53000373e-02, -4.75075059e-02,  2.33414583e-02, -5.28968759e-02,\n",
       "        4.22378536e-03, -2.43071709e-02, -3.05432621e-02, -5.92817366e-03,\n",
       "       -1.95524339e-02,  7.75322551e-03,  7.60160312e-02, -8.55143368e-03,\n",
       "       -2.85529830e-02,  1.79911181e-02,  1.55222937e-02, -9.54634306e-05,\n",
       "        1.13130249e-02, -4.22150306e-02, -1.00422949e-02, -3.25225815e-02,\n",
       "       -4.29086760e-02, -2.85158260e-03,  2.80025788e-02,  5.87819982e-03,\n",
       "       -6.85699331e-03, -3.24552692e-02,  2.38501821e-02,  1.28196925e-02,\n",
       "       -1.04513858e-02,  2.59903651e-02,  2.26794602e-03,  3.92299704e-02,\n",
       "        2.59975884e-02,  4.35393192e-02,  2.84043923e-02,  8.13836511e-03,\n",
       "       -2.42001913e-03,  3.20181400e-02,  4.17898037e-02,  5.09620234e-02,\n",
       "       -1.71179988e-03,  3.78033668e-02, -1.43855670e-02,  1.08490512e-02,\n",
       "        1.52483035e-03,  8.20457295e-04, -3.55177224e-02,  4.73051593e-02,\n",
       "       -2.70971861e-02, -2.33159084e-02,  4.43577208e-02,  3.98083143e-02,\n",
       "       -3.57472003e-02, -6.84992373e-02,  1.62021294e-02, -2.57129390e-02,\n",
       "        4.85233106e-02, -3.98359960e-03,  2.71414295e-02,  2.25385674e-03,\n",
       "        5.49624441e-03,  1.29570132e-02,  1.15353921e-02,  1.40554446e-03,\n",
       "       -1.59143265e-02,  4.09940928e-02, -3.16855237e-02, -1.19721824e-02,\n",
       "       -4.82835770e-02,  2.40713414e-02, -4.02867422e-02,  1.48277177e-04,\n",
       "        2.81110480e-02, -5.36828563e-02,  9.26992763e-03, -1.46476477e-02,\n",
       "       -7.27479607e-02, -1.56690031e-02,  2.04395354e-02,  1.02425565e-03,\n",
       "        3.19813788e-02,  3.22048366e-02, -5.24115888e-03, -4.22491133e-02,\n",
       "       -1.25795677e-02, -2.88693737e-02, -4.85193916e-03,  4.05774787e-02,\n",
       "       -2.01769061e-02, -4.97495383e-03, -1.12878708e-02, -7.13069787e-33,\n",
       "       -2.03149952e-02, -5.17752096e-02,  4.98560676e-03,  6.10773675e-02,\n",
       "       -7.73795769e-02,  2.10236423e-02, -1.86516531e-02, -3.61796506e-02,\n",
       "        1.02603454e-02, -4.20809016e-02, -1.42275235e-02,  3.28518152e-02,\n",
       "        2.37451084e-02,  6.97869947e-03,  5.09605184e-02,  1.13881640e-02,\n",
       "       -2.46471638e-04,  1.34389438e-02, -2.15980727e-02, -6.92206845e-02,\n",
       "       -6.77794963e-03,  4.25944887e-02,  6.58643916e-02,  1.13109464e-03,\n",
       "        5.70466965e-02,  1.19634625e-02, -5.02316803e-02,  8.50139838e-03,\n",
       "        3.51171605e-02,  1.26731545e-02,  2.32556593e-02, -7.69035518e-02,\n",
       "        1.43549908e-02,  1.20918034e-02,  2.48736423e-02,  5.23454286e-02,\n",
       "       -5.64254224e-02, -6.74507841e-02, -2.34551379e-03,  1.81859694e-02,\n",
       "       -3.56586799e-02, -3.11033614e-02, -4.45522461e-03, -9.39810369e-03,\n",
       "       -4.28218096e-02, -1.14816744e-02, -1.31565810e-03, -1.69359129e-02,\n",
       "        2.04188172e-02,  8.73445626e-03, -4.77552749e-02,  1.27834510e-02,\n",
       "       -1.06910523e-02,  6.24650195e-02,  6.66058762e-03,  2.73804646e-02,\n",
       "        4.31906283e-02,  2.92793819e-04, -5.98891936e-02, -1.42134707e-02,\n",
       "       -3.61432955e-02,  1.63402129e-02,  2.30634883e-02, -4.98968214e-02,\n",
       "       -1.18266847e-02, -1.00253662e-02, -1.03593254e-02,  4.94170152e-02,\n",
       "       -2.38853358e-02, -1.35412775e-02, -3.66092194e-03,  4.76560369e-02,\n",
       "       -6.92634135e-02, -4.89951810e-03,  6.93932027e-02, -6.37333393e-02,\n",
       "       -5.12718558e-02,  3.89022343e-02,  5.13391830e-02,  4.20746841e-02,\n",
       "        1.95581112e-02,  4.46326798e-03, -1.69725046e-02, -1.23136770e-02,\n",
       "       -5.15665160e-03, -7.92728271e-03, -3.92572442e-03, -1.16142435e-02,\n",
       "        1.93288904e-02,  9.80359688e-03,  9.17217359e-02,  1.85401123e-02,\n",
       "       -2.52800323e-02, -8.25218111e-03, -1.46514652e-02, -5.72035499e-02,\n",
       "        2.42205188e-02, -1.86558384e-02, -2.22900580e-03,  8.78395326e-03,\n",
       "       -3.79618853e-02,  1.56140262e-02,  1.89301409e-02,  4.71273102e-02,\n",
       "        6.17979132e-02,  3.12130135e-02,  5.96000887e-02, -4.12571896e-03,\n",
       "       -8.18074569e-02,  9.74951487e-04,  3.30629982e-02,  3.00648455e-02,\n",
       "        3.76083292e-02,  1.29182972e-02,  2.83537302e-02, -3.08137406e-02,\n",
       "        2.90238038e-02, -2.55425479e-02,  4.39225882e-02, -6.58249715e-04,\n",
       "        3.09182089e-02,  6.70306012e-03,  4.54444475e-02,  2.82442011e-02,\n",
       "       -5.79909272e-02,  1.24693476e-02,  4.88711633e-02, -3.98930861e-03,\n",
       "        2.68796962e-02, -3.08321919e-02,  3.19838040e-02, -2.28241365e-02,\n",
       "        3.11701001e-07,  3.65464985e-02,  3.31241414e-02, -2.56133936e-02,\n",
       "        8.84533580e-03,  1.99652482e-02, -6.62665889e-02, -2.56865751e-02,\n",
       "        4.45800349e-02, -3.96047570e-02,  4.31318674e-03,  7.89750367e-03,\n",
       "       -8.78166929e-02,  2.68629976e-02, -1.33744916e-02, -4.48199995e-02,\n",
       "       -5.48882596e-02,  4.94481735e-02, -2.59953775e-02, -2.61585396e-02,\n",
       "       -2.81049330e-02,  6.33381158e-02,  1.65433250e-02,  6.83761090e-02,\n",
       "       -4.42102440e-02, -2.34307647e-02, -6.09845715e-03,  1.25600537e-02,\n",
       "       -3.74406949e-02, -1.76230874e-02, -3.01721599e-02,  7.78241456e-02,\n",
       "       -4.14724881e-03,  4.69961902e-03,  2.45699342e-02, -2.44964100e-02,\n",
       "        2.05560308e-02,  3.10787782e-02,  5.94993979e-02, -6.38389960e-03,\n",
       "        9.58317220e-02,  1.99950840e-02, -1.28632620e-01, -2.76170224e-02,\n",
       "        3.74591655e-05,  8.17787740e-03,  1.31653389e-03, -7.36593874e-03,\n",
       "        2.93093864e-02, -5.82097992e-02, -1.02455877e-02,  2.37075761e-02,\n",
       "        2.10771915e-02, -5.77769540e-02,  2.38428321e-02,  1.42658837e-02,\n",
       "        6.72626169e-03,  7.09210709e-03, -1.38700362e-02,  5.44336699e-02,\n",
       "        2.46898364e-02, -1.20929647e-02, -4.76021804e-02,  4.60555963e-02,\n",
       "        4.64234166e-02,  6.34143800e-02, -9.97053366e-03, -4.95753027e-02,\n",
       "        3.80647548e-34,  7.47558894e-03, -3.71436924e-02, -1.48215629e-02,\n",
       "        1.23954173e-02, -1.38259931e-02, -3.74346301e-02,  6.77396506e-02,\n",
       "        4.79008183e-02, -1.70434138e-03, -2.46935170e-02, -2.22037919e-02],\n",
       "      dtype=float32)"
      ]
     },
     "execution_count": 18,
     "metadata": {},
     "output_type": "execute_result"
    }
   ],
   "source": [
    "first"
   ]
  },
  {
   "attachments": {},
   "cell_type": "markdown",
   "metadata": {},
   "source": [
    "# Comparison child parent"
   ]
  },
  {
   "cell_type": "code",
   "execution_count": 19,
   "metadata": {},
   "outputs": [
    {
     "ename": "SyntaxError",
     "evalue": "invalid syntax (1079012832.py, line 9)",
     "output_type": "error",
     "traceback": [
      "\u001b[0;36m  Cell \u001b[0;32mIn[19], line 9\u001b[0;36m\u001b[0m\n\u001b[0;31m    if new_title = old_title & date_depot_new > date_depot_old):\u001b[0m\n\u001b[0m                 ^\u001b[0m\n\u001b[0;31mSyntaxError\u001b[0m\u001b[0;31m:\u001b[0m invalid syntax\n"
     ]
    }
   ],
   "source": [
    "new_title_list = pd.DataFrame('new_title')\n",
    "dic_comparison_score ={}\n",
    "\n",
    "for new_title in new_title_list:\n",
    "    old_title_list = pd.DataFrame('meta_data', columns=['title', 'date_depot'])\n",
    "    old_title_list = old_title_list.sort_values(by=['date_depot'])\n",
    "\n",
    "    for old_title in old_title_list['title']:\n",
    "        if new_title = old_title & date_depot_new > date_depot_old):\n",
    "            comparison_score = comparison old vs new\n",
    "            if comparison_score > 70%:\n",
    "                dic_comparison_score['new_id'] = new_title[id]\n",
    "                dic_comparison_score['old_id'] = old_title[id]\n",
    "                dic_comparison_score['score'] = comparison_score\n",
    "                dic_comparison_score['status'] = 'possible_child'\n",
    "                for chapitre_new in new_title['title'].chapitre:\n",
    "                    for old_chapter in old_title_list['title'].chapitre:\n",
    "                        if chapitre_new = old_chapter:\n",
    "                            compare\n",
    "                        elif:\n",
    "                            if chapter_new_content = chapter_old_content\n",
    "\n",
    "            else:\n",
    "                dic_comparison_score['new_id'] = new_title[id]\n",
    "                dic_comparison_score['old_id'] = old_title[id]\n",
    "                dic_comparison_score['score'] = comparison_score\n",
    "                dic_comparison_score['status'] = 'not_child'\n",
    "        else (faire des boucles dans les référence et voir si références corresponde en comparaison et appliquer les même principe pour comparer les chapitre entre eux)\n",
    "\n",
    "        quand un chapitre n'as pas de correspondance ou qu'un chappitre s'emble avoir changer si nouveau on résume le nouveau via GPT si update on compare avec l'acien chapitre.\n",
    "\n"
   ]
  },
  {
   "cell_type": "code",
   "execution_count": 20,
   "metadata": {},
   "outputs": [],
   "source": [
    "with open(\"data/CLA_raw_DB.json\", \"r\") as read_file:\n",
    "    df_200 = json.load(read_file)"
   ]
  },
  {
   "cell_type": "code",
   "execution_count": 21,
   "metadata": {},
   "outputs": [],
   "source": [
    "parent = df_200['200-2021-011085.pdf']['articles_content']\n",
    "#child = df_200[]"
   ]
  },
  {
   "cell_type": "code",
   "execution_count": null,
   "metadata": {},
   "outputs": [],
   "source": []
  },
  {
   "cell_type": "code",
   "execution_count": 44,
   "metadata": {},
   "outputs": [],
   "source": [
    "import ast\n",
    "with open('data/save.txt', 'r') as file:\n",
    "    s = file.read()\n",
    "\n",
    "result = ast.literal_eval(s)\n",
    "\n",
    "key_list_child = result[0][\"20201-2022-000778.pdf\"][\"articles_content\"].keys()\n",
    "\n",
    "key_list_parent = result[1][\"20201-2020-008676.pdf\"][\"articles_content\"].keys()\n",
    "\n",
    "score_dict = {}\n",
    "\n",
    "for pdf_2art in key_list_child:\n",
    "    article_pdf2 = result[0][\"20201-2022-000778.pdf\"][\"articles_content\"][pdf_2art]\n",
    "    article_pdf2 = text_lematization(article_pdf2)\n",
    "    each_score = {}\n",
    "    for pdf_1art in key_list_parent:\n",
    "        article_pdf1 = result[1][\"20201-2020-008676.pdf\"][\"articles_content\"][pdf_1art]\n",
    "        article_pdf1 = text_lematization(article_pdf1)\n",
    "        first = model.encode(article_pdf2)\n",
    "        second = model.encode(article_pdf1)\n",
    "        cos_sim = util.pytorch_cos_sim(first, second)\n",
    "        each_score[pdf_1art] = cos_sim\n",
    "        #print(f'{pdf_2art} score against {pdf_1art}',cos_sim)\n",
    "    score_dict[pdf_2art] = each_score\n",
    "\n",
    "corresponding_article = {}\n",
    "\n",
    "for article in score_dict:\n",
    "    art_number = max(score_dict[article], key=score_dict[article].get)\n",
    "    max_score = max(score_dict[article].values())\n",
    "    corresponding_article[art_number] = max_score"
   ]
  },
  {
   "cell_type": "code",
   "execution_count": 38,
   "metadata": {},
   "outputs": [],
   "source": []
  },
  {
   "attachments": {},
   "cell_type": "markdown",
   "metadata": {},
   "source": [
    "text"
   ]
  },
  {
   "cell_type": "code",
   "execution_count": 45,
   "metadata": {},
   "outputs": [
    {
     "data": {
      "text/plain": [
       "{'art_1': tensor([[0.9995]]),\n",
       " 'art_2': tensor([[1.0000]]),\n",
       " 'art_3': tensor([[0.9942]]),\n",
       " 'art_4': tensor([[0.9972]]),\n",
       " 'art_5': tensor([[1.]]),\n",
       " 'art_6': tensor([[1.0000]]),\n",
       " 'art_7': tensor([[1.0000]]),\n",
       " 'art_8': tensor([[0.9668]]),\n",
       " 'art_9': tensor([[0.9683]])}"
      ]
     },
     "execution_count": 45,
     "metadata": {},
     "output_type": "execute_result"
    }
   ],
   "source": [
    "corresponding_article"
   ]
  },
  {
   "attachments": {},
   "cell_type": "markdown",
   "metadata": {},
   "source": [
    "# END of code"
   ]
  },
  {
   "cell_type": "markdown",
   "metadata": {},
   "source": [
    "# word counter"
   ]
  },
  {
   "cell_type": "code",
   "execution_count": null,
   "metadata": {},
   "outputs": [],
   "source": [
    "from collections import Counter\n",
    "import operator"
   ]
  },
  {
   "cell_type": "code",
   "execution_count": null,
   "metadata": {},
   "outputs": [],
   "source": [
    "# convert to pandas\n",
    "nbr_words_pandas =  tagged_posts"
   ]
  },
  {
   "cell_type": "code",
   "execution_count": null,
   "metadata": {},
   "outputs": [],
   "source": [
    "# initialize counter\n",
    "counter = Counter()\n",
    "\n",
    "# loop through text documents\n",
    "for i in range(len(nbr_words_pandas)):\n",
    "    # get text doc \n",
    "    text_doc = nbr_words_pandas[\"text_tokenized\"].iloc[i]\n",
    "    # remove single characters\n",
    "    text_doc = [word for word in text_doc if len(word) > 1]\n",
    "    # update counter\n",
    "    counter.update(text_doc)\n",
    "\n",
    "# sort counter\n",
    "counter_dict = dict(counter)\n",
    "counter_dict_sorted = list(sorted(counter_dict.items(), key=operator.itemgetter(1)))\n",
    "words = [obs[0] for obs in counter_dict_sorted]\n",
    "counts = [obs[1] for obs in counter_dict_sorted]"
   ]
  },
  {
   "cell_type": "code",
   "execution_count": null,
   "metadata": {},
   "outputs": [
    {
     "name": "stdout",
     "output_type": "stream",
     "text": [
      "['22/09/2021', '167280/co/200', '-enreqistr', '23/09/2021', 'septembre', 'ier', 'mascu-', 'lin', 'per-', 'sonnel', 'exer-', 'cent', 'lemployeurlautorisation', 'for-', 'mulé', 'syn-', 'dical', 'lar-', 'ticle', 'lel', '1el', '103chapitre', 'vail', 'nal', 'durée', '1erjuillet', 'duire', '2021de', 'natio-', 'pro-', '24/11/2021', '-enregistr', '13/12/2021', '168833/co/200', '18', 'novembre', 'ploye', 'concerner', 'art1er', 'credit', '-temp', 'cré-', 'dit-temps', 'person-', 'nel', 'commu-', 'niquer', 'syndi-', 'cale', 'di-', 'ligente', 'employésart3', 'modifier', '103ter', 'valoir', '15juillet2021', 'lective', '103§', 'accè-', 'der', 'au-', 'delà', 'so-', 'cial', '157', '7479', '2022', 'inclure', 'disposi-', 'pré-', 'sentir', 'art5', 'décisionservice', 'public', 'relation', 'té', 'dufédéral', 'concertation', 'général', 'greffe', 'erratum', '152855/co/200', '01107/2019', 'deux', 'langue', 'disparaître', 'texte', 'français', 'tiret', 'corriger', 'diminu-', 'por-commission', 'employes', '200', 'credit-temps', 'art1', 'personnel', 'cpaeart3', '4§2de', '23', 'avri12019', 'rni-ternpspour', 'if', 'd0j5', 'coclc', 'ef1pcoi', 'ch', 'fro', 'cl', 'u_tcte', '§11°', '§11', '77', 'àan', 'ie', '7350', '8§', '11°', 'tôt', 'conventionart5', 'neerlegging-dépôt', 'regist', 'com-', 'mission', 'con-', 'vention', 'communiquer', 'diligent', 'ber', 'ca', 'na', 'mo-', 'tif', 'tra-', 'collective', 'ployer', 'credit-temp', 'auxi-', 'liaire', 'masculin', 'art2', 'lectiv', 'lautorisation', 'formuler', 'co', '15', 'viser', '35', 'salarié', 'métier', 'lourd', 'minimum', 'nuit', '30', 'alinéa', 'faire', 'appel', 'bis', 'autant', 'atteindre', 'imputer', 'seuil', 'pc', '4/5èmes', 'condition', 'montant', 'complémentaire', 'eur', 'indexé', 'annuellement', 'dadministration', 'charger', 'prendre', 'mesure', 'nécessaire', 'afin', 'assurer', 'paiement', 'conformément', 'reprise', 'ci-dessu', 'art4', 'duree', 'sauf', 'contraire', 'correction', 'direction', '57', 'devoir', '§3', '§4', '4§1', 'aoboco', '§2', 'cnt', '4/5', 'inclu', 'commencer', '1/5ieme', '20']\n"
     ]
    }
   ],
   "source": [
    "print(words[:200])"
   ]
  },
  {
   "cell_type": "code",
   "execution_count": null,
   "metadata": {},
   "outputs": [
    {
     "data": {
      "image/png": "[encoded data removed]",
      "text/plain": [
       "<Figure size 1200x600 with 1 Axes>"
      ]
     },
     "metadata": {},
     "output_type": "display_data"
    }
   ],
   "source": [
    "# plot \n",
    "plt.figure(figsize=(12, 6))\n",
    "sns.barplot(y=words[-20:], x=counts[-20:], orient=\"h\")\n",
    "plt.yticks(range(20), words[-20:])\n",
    "plt.ylim([-1, 20])\n",
    "plt.xlabel(\"word count\")\n",
    "plt.show()"
   ]
  },
  {
   "cell_type": "code",
   "execution_count": null,
   "metadata": {},
   "outputs": [],
   "source": []
  }
 ],
 "metadata": {
  "kernelspec": {
   "display_name": "CLA_venv",
   "language": "python",
   "name": "python3"
  },
  "language_info": {
   "codemirror_mode": {
    "name": "ipython",
    "version": 3
   },
   "file_extension": ".py",
   "mimetype": "text/x-python",
   "name": "python",
   "nbconvert_exporter": "python",
   "pygments_lexer": "ipython3",
   "version": "3.8.10 (default, Nov 14 2022, 12:59:47) \n[GCC 9.4.0]"
  },
  "orig_nbformat": 2,
  "vscode": {
   "interpreter": {
    "hash": "0fb53957db26442e55728dff61933bb75f799cfc90aea7f6f9a2533e3a013ac6"
   }
  }
 },
 "nbformat": 4,
 "nbformat_minor": 2
}
